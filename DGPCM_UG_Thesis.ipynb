{
  "cells": [
    {
      "cell_type": "code",
      "execution_count": null,
      "metadata": {
        "id": "12pMr9zw1-zr",
        "scrolled": true
      },
      "outputs": [],
      "source": [
        "seed_value= 123\n",
        "import tensorflow as tf\n",
        "import random as rn\n",
        "import random\n",
        "from tensorflow.keras.optimizers import SGD\n"
      ]
    },
    {
      "cell_type": "code",
      "execution_count": null,
      "metadata": {
        "id": "uILxA12t1-zz"
      },
      "outputs": [],
      "source": [
        "import pandas as pd\n",
        "import matplotlib.pyplot as plt\n",
        "import seaborn as sns\n",
        "import numpy as np"
      ]
    },
    {
      "cell_type": "code",
      "execution_count": null,
      "metadata": {
        "id": "WCGGDZKK1-z0"
      },
      "outputs": [],
      "source": [
        "import tensorflow.keras\n",
        "import tensorflow as tf\n",
        "from tensorflow.keras.models import Model, Sequential, load_model\n",
        "from tensorflow.keras.layers import Dense, Dropout, Flatten ,ZeroPadding2D\n",
        "from tensorflow.keras.layers import Input, Conv2D, MaxPooling2D, Conv3D, MaxPooling3D\n",
        "from tensorflow.keras.layers import BatchNormalization\n",
        "from tensorflow.keras import backend as K\n",
        "from tensorflow.keras.utils import plot_model\n",
        "from tensorflow.keras.initializers import Constant\n",
        "from tensorflow.keras.optimizers import RMSprop\n",
        "from tensorflow.keras.callbacks import ModelCheckpoint, EarlyStopping\n",
        "from scipy import ndimage\n",
        "\n",
        "from tensorflow.keras import layers\n",
        "from tensorflow.keras.optimizers import Adam,Adadelta, Adagrad\n",
        "from tensorflow.keras import models\n",
        "from tensorflow.keras import regularizers\n",
        "\n",
        "from tensorflow.keras.callbacks import EarlyStopping\n",
        "from tensorflow.keras.regularizers import l2\n",
        "\n",
        "from tensorflow.keras import activations\n",
        "from tensorflow.keras import Model\n",
        "\n",
        "from tensorflow.keras.layers import AvgPool2D, MaxPool2D, GlobalAvgPool2D\n",
        "from tensorflow.keras.layers import Add, ReLU, Dense, concatenate\n",
        "\n",
        "from tensorflow.keras.layers import Input, Conv2D, MaxPooling2D, ZeroPadding2D,\\\n",
        "     Flatten, BatchNormalization, AveragePooling2D, Dense, Activation, Add\n",
        "\n",
        "from tensorflow.keras.applications import VGG16,VGG19"
      ]
    },
    {
      "cell_type": "code",
      "execution_count": null,
      "metadata": {
        "id": "9RNhypv21-z2"
      },
      "outputs": [],
      "source": [
        "from sklearn.model_selection import LeaveOneOut, GridSearchCV\n",
        "from sklearn.model_selection import KFold,StratifiedKFold\n",
        "\n",
        "from sklearn.model_selection import cross_val_score\n",
        "from sklearn.metrics import accuracy_score\n",
        "\n",
        "from statistics import mean, stdev\n",
        "from sklearn.metrics import confusion_matrix, classification_report, cohen_kappa_score\n"
      ]
    },
    {
      "cell_type": "code",
      "execution_count": null,
      "metadata": {
        "colab": {
          "base_uri": "https://localhost:8080/"
        },
        "id": "gQKxpS_52cV3",
        "outputId": "ad30f4c4-06a1-4401-99d0-2c8ca9cb4692"
      },
      "outputs": [
        {
          "output_type": "stream",
          "name": "stdout",
          "text": [
            "Mounted at /content/drive\n"
          ]
        }
      ],
      "source": [
        "from google.colab import drive\n",
        "drive.mount('/content/drive')"
      ]
    },
    {
      "cell_type": "markdown",
      "metadata": {
        "id": "2QyJT2uC1-z3"
      },
      "source": [
        "MODEL ARCHITECTURE\n",
        "\n",
        "<img src=\"Modelpic.png\">"
      ]
    },
    {
      "cell_type": "code",
      "execution_count": null,
      "metadata": {
        "id": "ZKdv0z-61-z6",
        "colab": {
          "base_uri": "https://localhost:8080/",
          "height": 329
        },
        "outputId": "4372590d-491e-46f3-bebd-e2b45efdcda7"
      },
      "outputs": [
        {
          "output_type": "error",
          "ename": "FileNotFoundError",
          "evalue": "ignored",
          "traceback": [
            "\u001b[0;31m---------------------------------------------------------------------------\u001b[0m",
            "\u001b[0;31mFileNotFoundError\u001b[0m                         Traceback (most recent call last)",
            "\u001b[0;32m<ipython-input-6-d934b749b957>\u001b[0m in \u001b[0;36m<module>\u001b[0;34m\u001b[0m\n\u001b[1;32m      1\u001b[0m \u001b[0;31m#only T2tra, ADC, Bval\u001b[0m\u001b[0;34m\u001b[0m\u001b[0;34m\u001b[0m\u001b[0m\n\u001b[0;32m----> 2\u001b[0;31m \u001b[0mdata\u001b[0m \u001b[0;34m=\u001b[0m\u001b[0mpd\u001b[0m\u001b[0;34m.\u001b[0m\u001b[0mread_csv\u001b[0m\u001b[0;34m(\u001b[0m\u001b[0;34m\"/content/drive/Shareddrives/Prostate-X/2-Final-with-Ktrans.csv\"\u001b[0m\u001b[0;34m)\u001b[0m\u001b[0;34m\u001b[0m\u001b[0;34m\u001b[0m\u001b[0m\n\u001b[0m",
            "\u001b[0;32m/usr/local/lib/python3.9/dist-packages/pandas/util/_decorators.py\u001b[0m in \u001b[0;36mwrapper\u001b[0;34m(*args, **kwargs)\u001b[0m\n\u001b[1;32m    309\u001b[0m                     \u001b[0mstacklevel\u001b[0m\u001b[0;34m=\u001b[0m\u001b[0mstacklevel\u001b[0m\u001b[0;34m,\u001b[0m\u001b[0;34m\u001b[0m\u001b[0;34m\u001b[0m\u001b[0m\n\u001b[1;32m    310\u001b[0m                 )\n\u001b[0;32m--> 311\u001b[0;31m             \u001b[0;32mreturn\u001b[0m \u001b[0mfunc\u001b[0m\u001b[0;34m(\u001b[0m\u001b[0;34m*\u001b[0m\u001b[0margs\u001b[0m\u001b[0;34m,\u001b[0m \u001b[0;34m**\u001b[0m\u001b[0mkwargs\u001b[0m\u001b[0;34m)\u001b[0m\u001b[0;34m\u001b[0m\u001b[0;34m\u001b[0m\u001b[0m\n\u001b[0m\u001b[1;32m    312\u001b[0m \u001b[0;34m\u001b[0m\u001b[0m\n\u001b[1;32m    313\u001b[0m         \u001b[0;32mreturn\u001b[0m \u001b[0mwrapper\u001b[0m\u001b[0;34m\u001b[0m\u001b[0;34m\u001b[0m\u001b[0m\n",
            "\u001b[0;32m/usr/local/lib/python3.9/dist-packages/pandas/io/parsers/readers.py\u001b[0m in \u001b[0;36mread_csv\u001b[0;34m(filepath_or_buffer, sep, delimiter, header, names, index_col, usecols, squeeze, prefix, mangle_dupe_cols, dtype, engine, converters, true_values, false_values, skipinitialspace, skiprows, skipfooter, nrows, na_values, keep_default_na, na_filter, verbose, skip_blank_lines, parse_dates, infer_datetime_format, keep_date_col, date_parser, dayfirst, cache_dates, iterator, chunksize, compression, thousands, decimal, lineterminator, quotechar, quoting, doublequote, escapechar, comment, encoding, encoding_errors, dialect, error_bad_lines, warn_bad_lines, on_bad_lines, delim_whitespace, low_memory, memory_map, float_precision, storage_options)\u001b[0m\n\u001b[1;32m    676\u001b[0m     \u001b[0mkwds\u001b[0m\u001b[0;34m.\u001b[0m\u001b[0mupdate\u001b[0m\u001b[0;34m(\u001b[0m\u001b[0mkwds_defaults\u001b[0m\u001b[0;34m)\u001b[0m\u001b[0;34m\u001b[0m\u001b[0;34m\u001b[0m\u001b[0m\n\u001b[1;32m    677\u001b[0m \u001b[0;34m\u001b[0m\u001b[0m\n\u001b[0;32m--> 678\u001b[0;31m     \u001b[0;32mreturn\u001b[0m \u001b[0m_read\u001b[0m\u001b[0;34m(\u001b[0m\u001b[0mfilepath_or_buffer\u001b[0m\u001b[0;34m,\u001b[0m \u001b[0mkwds\u001b[0m\u001b[0;34m)\u001b[0m\u001b[0;34m\u001b[0m\u001b[0;34m\u001b[0m\u001b[0m\n\u001b[0m\u001b[1;32m    679\u001b[0m \u001b[0;34m\u001b[0m\u001b[0m\n\u001b[1;32m    680\u001b[0m \u001b[0;34m\u001b[0m\u001b[0m\n",
            "\u001b[0;32m/usr/local/lib/python3.9/dist-packages/pandas/io/parsers/readers.py\u001b[0m in \u001b[0;36m_read\u001b[0;34m(filepath_or_buffer, kwds)\u001b[0m\n\u001b[1;32m    573\u001b[0m \u001b[0;34m\u001b[0m\u001b[0m\n\u001b[1;32m    574\u001b[0m     \u001b[0;31m# Create the parser.\u001b[0m\u001b[0;34m\u001b[0m\u001b[0;34m\u001b[0m\u001b[0m\n\u001b[0;32m--> 575\u001b[0;31m     \u001b[0mparser\u001b[0m \u001b[0;34m=\u001b[0m \u001b[0mTextFileReader\u001b[0m\u001b[0;34m(\u001b[0m\u001b[0mfilepath_or_buffer\u001b[0m\u001b[0;34m,\u001b[0m \u001b[0;34m**\u001b[0m\u001b[0mkwds\u001b[0m\u001b[0;34m)\u001b[0m\u001b[0;34m\u001b[0m\u001b[0;34m\u001b[0m\u001b[0m\n\u001b[0m\u001b[1;32m    576\u001b[0m \u001b[0;34m\u001b[0m\u001b[0m\n\u001b[1;32m    577\u001b[0m     \u001b[0;32mif\u001b[0m \u001b[0mchunksize\u001b[0m \u001b[0;32mor\u001b[0m \u001b[0miterator\u001b[0m\u001b[0;34m:\u001b[0m\u001b[0;34m\u001b[0m\u001b[0;34m\u001b[0m\u001b[0m\n",
            "\u001b[0;32m/usr/local/lib/python3.9/dist-packages/pandas/io/parsers/readers.py\u001b[0m in \u001b[0;36m__init__\u001b[0;34m(self, f, engine, **kwds)\u001b[0m\n\u001b[1;32m    930\u001b[0m \u001b[0;34m\u001b[0m\u001b[0m\n\u001b[1;32m    931\u001b[0m         \u001b[0mself\u001b[0m\u001b[0;34m.\u001b[0m\u001b[0mhandles\u001b[0m\u001b[0;34m:\u001b[0m \u001b[0mIOHandles\u001b[0m \u001b[0;34m|\u001b[0m \u001b[0;32mNone\u001b[0m \u001b[0;34m=\u001b[0m \u001b[0;32mNone\u001b[0m\u001b[0;34m\u001b[0m\u001b[0;34m\u001b[0m\u001b[0m\n\u001b[0;32m--> 932\u001b[0;31m         \u001b[0mself\u001b[0m\u001b[0;34m.\u001b[0m\u001b[0m_engine\u001b[0m \u001b[0;34m=\u001b[0m \u001b[0mself\u001b[0m\u001b[0;34m.\u001b[0m\u001b[0m_make_engine\u001b[0m\u001b[0;34m(\u001b[0m\u001b[0mf\u001b[0m\u001b[0;34m,\u001b[0m \u001b[0mself\u001b[0m\u001b[0;34m.\u001b[0m\u001b[0mengine\u001b[0m\u001b[0;34m)\u001b[0m\u001b[0;34m\u001b[0m\u001b[0;34m\u001b[0m\u001b[0m\n\u001b[0m\u001b[1;32m    933\u001b[0m \u001b[0;34m\u001b[0m\u001b[0m\n\u001b[1;32m    934\u001b[0m     \u001b[0;32mdef\u001b[0m \u001b[0mclose\u001b[0m\u001b[0;34m(\u001b[0m\u001b[0mself\u001b[0m\u001b[0;34m)\u001b[0m\u001b[0;34m:\u001b[0m\u001b[0;34m\u001b[0m\u001b[0;34m\u001b[0m\u001b[0m\n",
            "\u001b[0;32m/usr/local/lib/python3.9/dist-packages/pandas/io/parsers/readers.py\u001b[0m in \u001b[0;36m_make_engine\u001b[0;34m(self, f, engine)\u001b[0m\n\u001b[1;32m   1214\u001b[0m             \u001b[0;31m# \"Union[str, PathLike[str], ReadCsvBuffer[bytes], ReadCsvBuffer[str]]\"\u001b[0m\u001b[0;34m\u001b[0m\u001b[0;34m\u001b[0m\u001b[0m\n\u001b[1;32m   1215\u001b[0m             \u001b[0;31m# , \"str\", \"bool\", \"Any\", \"Any\", \"Any\", \"Any\", \"Any\"\u001b[0m\u001b[0;34m\u001b[0m\u001b[0;34m\u001b[0m\u001b[0m\n\u001b[0;32m-> 1216\u001b[0;31m             self.handles = get_handle(  # type: ignore[call-overload]\n\u001b[0m\u001b[1;32m   1217\u001b[0m                 \u001b[0mf\u001b[0m\u001b[0;34m,\u001b[0m\u001b[0;34m\u001b[0m\u001b[0;34m\u001b[0m\u001b[0m\n\u001b[1;32m   1218\u001b[0m                 \u001b[0mmode\u001b[0m\u001b[0;34m,\u001b[0m\u001b[0;34m\u001b[0m\u001b[0;34m\u001b[0m\u001b[0m\n",
            "\u001b[0;32m/usr/local/lib/python3.9/dist-packages/pandas/io/common.py\u001b[0m in \u001b[0;36mget_handle\u001b[0;34m(path_or_buf, mode, encoding, compression, memory_map, is_text, errors, storage_options)\u001b[0m\n\u001b[1;32m    784\u001b[0m         \u001b[0;32mif\u001b[0m \u001b[0mioargs\u001b[0m\u001b[0;34m.\u001b[0m\u001b[0mencoding\u001b[0m \u001b[0;32mand\u001b[0m \u001b[0;34m\"b\"\u001b[0m \u001b[0;32mnot\u001b[0m \u001b[0;32min\u001b[0m \u001b[0mioargs\u001b[0m\u001b[0;34m.\u001b[0m\u001b[0mmode\u001b[0m\u001b[0;34m:\u001b[0m\u001b[0;34m\u001b[0m\u001b[0;34m\u001b[0m\u001b[0m\n\u001b[1;32m    785\u001b[0m             \u001b[0;31m# Encoding\u001b[0m\u001b[0;34m\u001b[0m\u001b[0;34m\u001b[0m\u001b[0m\n\u001b[0;32m--> 786\u001b[0;31m             handle = open(\n\u001b[0m\u001b[1;32m    787\u001b[0m                 \u001b[0mhandle\u001b[0m\u001b[0;34m,\u001b[0m\u001b[0;34m\u001b[0m\u001b[0;34m\u001b[0m\u001b[0m\n\u001b[1;32m    788\u001b[0m                 \u001b[0mioargs\u001b[0m\u001b[0;34m.\u001b[0m\u001b[0mmode\u001b[0m\u001b[0;34m,\u001b[0m\u001b[0;34m\u001b[0m\u001b[0;34m\u001b[0m\u001b[0m\n",
            "\u001b[0;31mFileNotFoundError\u001b[0m: [Errno 2] No such file or directory: '/content/drive/Shareddrives/Prostate-X/2-Final-with-Ktrans.csv'"
          ]
        }
      ],
      "source": [
        "#only T2tra, ADC, Bval\n",
        "data =pd.read_csv(\"/content/drive/Shareddrives/Prostate-X/2-Final-with-Ktrans.csv\")"
      ]
    },
    {
      "cell_type": "code",
      "execution_count": null,
      "metadata": {
        "id": "LZhLVofy1-z7"
      },
      "outputs": [],
      "source": [
        "data.head(5)"
      ]
    },
    {
      "cell_type": "code",
      "execution_count": null,
      "metadata": {
        "id": "o7LiroYV1-z9"
      },
      "outputs": [],
      "source": [
        "data.groupby('ggg').count()"
      ]
    },
    {
      "cell_type": "code",
      "execution_count": null,
      "metadata": {
        "id": "v042S-4N1-z_",
        "colab": {
          "base_uri": "https://localhost:8080/",
          "height": 218
        },
        "outputId": "5aab1070-8061-459f-aeff-82be216c44cd"
      },
      "outputs": [
        {
          "output_type": "error",
          "ename": "NameError",
          "evalue": "ignored",
          "traceback": [
            "\u001b[0;31m---------------------------------------------------------------------------\u001b[0m",
            "\u001b[0;31mNameError\u001b[0m                                 Traceback (most recent call last)",
            "\u001b[0;32m<ipython-input-1-6287b0e62c39>\u001b[0m in \u001b[0;36m<module>\u001b[0;34m\u001b[0m\n\u001b[1;32m      1\u001b[0m \u001b[0;31m#Patients with more than 1 lesion\u001b[0m\u001b[0;34m\u001b[0m\u001b[0;34m\u001b[0m\u001b[0;34m\u001b[0m\u001b[0m\n\u001b[0;32m----> 2\u001b[0;31m \u001b[0;34m(\u001b[0m\u001b[0mdata\u001b[0m\u001b[0;34m[\u001b[0m\u001b[0;34m'ProxID'\u001b[0m\u001b[0;34m]\u001b[0m\u001b[0;34m.\u001b[0m\u001b[0mvalue_counts\u001b[0m\u001b[0;34m(\u001b[0m\u001b[0;34m)\u001b[0m\u001b[0;34m)\u001b[0m\u001b[0;34m[\u001b[0m\u001b[0;34m:\u001b[0m\u001b[0;36m13\u001b[0m\u001b[0;34m]\u001b[0m\u001b[0;34m\u001b[0m\u001b[0;34m\u001b[0m\u001b[0m\n\u001b[0m\u001b[1;32m      3\u001b[0m \u001b[0;34m\u001b[0m\u001b[0m\n\u001b[1;32m      4\u001b[0m \u001b[0;31m#There are 12 patients with more than 1 lesion(1 patient with 3 lesions- 3*3MRI sequences=9, Similarly 11 patients with 2 lesions )\u001b[0m\u001b[0;34m\u001b[0m\u001b[0;34m\u001b[0m\u001b[0;34m\u001b[0m\u001b[0m\n",
            "\u001b[0;31mNameError\u001b[0m: name 'data' is not defined"
          ]
        }
      ],
      "source": [
        "#Patients with more than 1 lesion\n",
        "(data['ProxID'].value_counts())[:13]\n",
        "\n",
        "#There are 12 patients with more than 1 lesion(1 patient with 3 lesions- 3*3MRI sequences=9, Similarly 11 patients with 2 lesions )"
      ]
    },
    {
      "cell_type": "code",
      "execution_count": null,
      "metadata": {
        "id": "6PHW-dhU1-0A"
      },
      "outputs": [],
      "source": [
        "t2_samples1 = np.load('/content/drive/MyDrive/Prostate-X/Train/numpy/ijk/t2tra/X_train_ijk.npy')\n",
        "t2_labels1 = np.load('/content/drive/MyDrive/Prostate-X/Train/numpy/ijk/t2tra/Y_train_ijk.npy')\n",
        "\n",
        "t2_samples2 = np.load('/content/drive/MyDrive/Prostate-X/Train/numpy/ijk/adc/X_train_ijk.npy')\n",
        "t2_labels2 = np.load('/content/drive/MyDrive/Prostate-X/Train/numpy/ijk/adc/Y_train_ijk.npy')\n",
        "\n",
        "t2_samples3 = np.load('/content/drive/MyDrive/Prostate-X/Train/numpy/ijk/bval/X_train_ijk.npy')\n",
        "t2_labels3 = np.load('/content/drive/MyDrive/Prostate-X/Train/numpy/ijk/bval/Y_train_ijk.npy')"
      ]
    },
    {
      "cell_type": "code",
      "execution_count": null,
      "metadata": {
        "id": "vX9AZJmc1-0C"
      },
      "outputs": [],
      "source": [
        "t2_samples1 = np.array(t2_samples1, dtype=np.float32, copy = True)\n",
        "t2_samples2 = np.array(t2_samples2, dtype=np.float32, copy = True)\n",
        "t2_samples3 = np.array(t2_samples3, dtype=np.float32, copy = True)"
      ]
    },
    {
      "cell_type": "code",
      "execution_count": null,
      "metadata": {
        "id": "1dKXCMlL5v2l"
      },
      "outputs": [],
      "source": [
        "t2_samples1 = t2_samples1[:115]\n",
        "t2_labels1 = t2_labels1[:115]"
      ]
    },
    {
      "cell_type": "code",
      "execution_count": null,
      "metadata": {
        "id": "LNvZUge16PZv"
      },
      "outputs": [],
      "source": [
        "t2_samples3.shape"
      ]
    },
    {
      "cell_type": "code",
      "execution_count": null,
      "metadata": {
        "id": "WyZ-n_vP7Bxv"
      },
      "outputs": [],
      "source": [
        "t2_labels3.shape"
      ]
    },
    {
      "cell_type": "code",
      "execution_count": null,
      "metadata": {
        "id": "-e7KuvZi1-0E"
      },
      "outputs": [],
      "source": [
        "from sklearn.model_selection import train_test_split\n",
        "x_t2_train, x_t2_test, y_t2_train, y_t2_test = train_test_split(t2_samples1, t2_labels1, test_size=0.30, random_state=seed_value,shuffle=True, stratify=t2_labels1)\n",
        "\n",
        "print(\"X_t2_train shape: \",x_t2_train.shape, \"\\nY_t2_train shape: \",y_t2_train.shape)\n",
        "print(\"X_t2_test shape: \",x_t2_test.shape, \"\\nY_t2_test shape: \",y_t2_test.shape)\n"
      ]
    },
    {
      "cell_type": "code",
      "execution_count": null,
      "metadata": {
        "id": "pfWlkWz71-0E"
      },
      "outputs": [],
      "source": [
        "from sklearn.model_selection import train_test_split\n",
        "x_adc_train, x_adc_test, y_adc_train, y_adc_test = train_test_split(t2_samples2, t2_labels2, test_size=0.30, random_state=seed_value,shuffle=True, stratify=t2_labels2)\n",
        "\n",
        "print(\"X_adc_train shape: \",x_adc_train.shape, \"\\nY_adc_train shape: \",y_adc_train.shape)\n",
        "print(\"X_adc_test shape: \",x_adc_test.shape, \"\\nY_adc_test shape: \",y_adc_test.shape)\n"
      ]
    },
    {
      "cell_type": "code",
      "execution_count": null,
      "metadata": {
        "id": "3xxIKSO41-0F"
      },
      "outputs": [],
      "source": [
        "from sklearn.model_selection import train_test_split\n",
        "x_bval_train, x_bval_test, y_bval_train, y_bval_test = train_test_split(t2_samples3, t2_labels3, test_size=0.30, random_state=seed_value,shuffle=True, stratify=t2_labels3)\n",
        "\n",
        "print(\"X_bval_train shape: \",x_bval_train.shape, \"\\nY_bval_train shape: \",y_bval_train.shape)\n",
        "print(\"X_bval_test shape: \",x_bval_test.shape, \"\\nY_bval_test shape: \",y_bval_test.shape)\n"
      ]
    },
    {
      "cell_type": "code",
      "execution_count": null,
      "metadata": {
        "id": "FScxlHRG1-0H"
      },
      "outputs": [],
      "source": [
        "unique, counts = np.unique(y_bval_train, return_counts=True)\n",
        "dict(zip(unique, counts))"
      ]
    },
    {
      "cell_type": "code",
      "execution_count": null,
      "metadata": {
        "id": "uAG_sj-Z1-0I"
      },
      "outputs": [],
      "source": [
        "unique, counts = np.unique(y_adc_train, return_counts=True)\n",
        "dict(zip(unique, counts))"
      ]
    },
    {
      "cell_type": "code",
      "execution_count": null,
      "metadata": {
        "id": "5mUXXj4I1-0J"
      },
      "outputs": [],
      "source": [
        "unique, counts = np.unique(y_adc_test, return_counts=True)\n",
        "dict(zip(unique, counts))"
      ]
    },
    {
      "cell_type": "code",
      "execution_count": null,
      "metadata": {
        "id": "meU4MiYG1-0J"
      },
      "outputs": [],
      "source": [
        "unique, counts = np.unique(y_t2_test, return_counts=True)\n",
        "dict(zip(unique, counts))"
      ]
    },
    {
      "cell_type": "markdown",
      "metadata": {
        "id": "TYh_OBpv1-0K"
      },
      "source": [
        "## DATA AUGMENTATION ON TRAIN"
      ]
    },
    {
      "cell_type": "code",
      "execution_count": null,
      "metadata": {
        "id": "KQFpN4px1-0K"
      },
      "outputs": [],
      "source": [
        "## T2\n",
        "\n",
        "image1 = np.empty([80, 224, 224, 3])\n",
        "image2 = np.empty([80, 224, 224, 3])\n",
        "\n",
        "\n",
        "for i in range (0,len(x_t2_train)):\n",
        "    T=x_t2_train[i]\n",
        "    angles = [80.0, 170, -170.0, -80.0]\n",
        "    angle = random.choice(angles)\n",
        "    image1[i] = ndimage.interpolation.rotate(T, angle, mode='nearest', axes=(0, 1), reshape=False)# rotating in xy plane\n",
        "    angle = random.choice(angles)\n",
        "    image2[i] = ndimage.interpolation.rotate(T, angle, mode='nearest', axes=(0, 1), reshape=False)"
      ]
    },
    {
      "cell_type": "code",
      "execution_count": null,
      "metadata": {
        "id": "lnF8Wpee1-0L"
      },
      "outputs": [],
      "source": [
        "x_t2_train = np.concatenate((x_t2_train, image1, image2), axis=0)\n",
        "y_t2_train = np.concatenate((y_t2_train, y_t2_train, y_t2_train), axis=0)"
      ]
    },
    {
      "cell_type": "code",
      "execution_count": null,
      "metadata": {
        "id": "bdKbf8bJ1-0L"
      },
      "outputs": [],
      "source": [
        "## ADC\n",
        "\n",
        "image1 = np.empty([80, 224, 224, 3])  # Shape of train\n",
        "image2 = np.empty([80, 224, 224, 3])\n",
        "\n",
        "\n",
        "for i in range (0,len(x_adc_train)):\n",
        "    T=x_adc_train[i]\n",
        "    angles = [80.0, 170, -170.0, -80.0]\n",
        "    angle = random.choice(angles)\n",
        "    image1[i] = ndimage.interpolation.rotate(T, angle, mode='nearest', axes=(0, 1), reshape=False)\n",
        "    angle = random.choice(angles)\n",
        "    image2[i] = ndimage.interpolation.rotate(T, angle, mode='nearest', axes=(0, 1), reshape=False)"
      ]
    },
    {
      "cell_type": "code",
      "execution_count": null,
      "metadata": {
        "id": "ULGnPTnO1-0M"
      },
      "outputs": [],
      "source": [
        "x_adc_train = np.concatenate((x_adc_train, image1, image2), axis=0)\n",
        "y_adc_train = np.concatenate((y_adc_train, y_adc_train, y_adc_train), axis=0)"
      ]
    },
    {
      "cell_type": "code",
      "execution_count": null,
      "metadata": {
        "id": "o9QZfXS-1-0M"
      },
      "outputs": [],
      "source": [
        "## BVal\n",
        "\n",
        "image1 = np.empty([80, 224, 224, 3])\n",
        "image2 = np.empty([80, 224, 224, 3])\n",
        "\n",
        "\n",
        "for i in range (0,len(x_bval_train)):\n",
        "    T=x_bval_train[i]\n",
        "    angles = [80.0, 170, -170.0, -80.0]\n",
        "    # pick angles at random\n",
        "    angle = random.choice(angles)\n",
        "    image1[i] = ndimage.interpolation.rotate(T, angle, mode='nearest', axes=(0, 1), reshape=False)\n",
        "    angle = random.choice(angles)\n",
        "    image2[i] = ndimage.interpolation.rotate(T, angle, mode='nearest', axes=(0, 1), reshape=False)"
      ]
    },
    {
      "cell_type": "code",
      "execution_count": null,
      "metadata": {
        "id": "QTv55Rvy1-0N"
      },
      "outputs": [],
      "source": [
        "x_bval_train = np.concatenate((x_bval_train, image1, image2), axis=0)\n",
        "y_bval_train = np.concatenate((y_bval_train, y_bval_train, y_bval_train), axis=0)"
      ]
    },
    {
      "cell_type": "code",
      "execution_count": null,
      "metadata": {
        "id": "3wgrhDpC1-0N"
      },
      "outputs": [],
      "source": [
        "np.array_equal(y_adc_train,y_bval_train)"
      ]
    },
    {
      "cell_type": "code",
      "execution_count": null,
      "metadata": {
        "id": "I-MZAVnG1-0N"
      },
      "outputs": [],
      "source": [
        "np.array_equal(y_t2_train,y_bval_train)"
      ]
    },
    {
      "cell_type": "code",
      "execution_count": null,
      "metadata": {
        "id": "DpwF99d21-0O"
      },
      "outputs": [],
      "source": [
        "# should be same for adc, bval and t2\n",
        "\n",
        "print(\"X_adc_train shape: \",x_adc_train.shape, \"\\nY_adc_train shape: \",y_adc_train.shape)\n",
        "print(\"X_adc_test shape: \",x_adc_test.shape, \"\\nY_adc_test shape: \",y_adc_test.shape)\n"
      ]
    },
    {
      "cell_type": "code",
      "execution_count": null,
      "metadata": {
        "id": "6ge7lL_z1-0O"
      },
      "outputs": [],
      "source": [
        "x_adc_train= (np.expand_dims(x_adc_train, axis = 4))\n",
        "x_t2_train= (np.expand_dims(x_t2_train, axis = 4))\n",
        "x_bval_train= (np.expand_dims(x_bval_train, axis = 4))"
      ]
    },
    {
      "cell_type": "code",
      "execution_count": null,
      "metadata": {
        "id": "KCbJ9KgF1-0O"
      },
      "outputs": [],
      "source": [
        "x_adc_test= (np.expand_dims(x_adc_test, axis = 4))\n",
        "x_t2_test= (np.expand_dims(x_t2_test, axis = 4))\n",
        "x_bval_test= (np.expand_dims(x_bval_test, axis = 4))"
      ]
    },
    {
      "cell_type": "code",
      "execution_count": null,
      "metadata": {
        "colab": {
          "base_uri": "https://localhost:8080/"
        },
        "id": "VJ_gTb8g1-0P",
        "outputId": "523a9e22-2c87-425b-9b8b-d389b9081325"
      },
      "outputs": [
        {
          "output_type": "execute_result",
          "data": {
            "text/plain": [
              "(240, 224, 224, 3, 1)"
            ]
          },
          "metadata": {},
          "execution_count": 29
        }
      ],
      "source": [
        "x_adc_train.shape"
      ]
    },
    {
      "cell_type": "code",
      "execution_count": null,
      "metadata": {
        "colab": {
          "base_uri": "https://localhost:8080/"
        },
        "id": "nA2RR1N11-0Q",
        "outputId": "6f151641-8b87-4be1-aa30-7e7ed773ef1d"
      },
      "outputs": [
        {
          "output_type": "execute_result",
          "data": {
            "text/plain": [
              "(35, 224, 224, 3, 1)"
            ]
          },
          "metadata": {},
          "execution_count": 34
        }
      ],
      "source": [
        "x_bval_test.shape"
      ]
    },
    {
      "cell_type": "code",
      "source": [],
      "metadata": {
        "id": "uD_hxkPwk-sz"
      },
      "execution_count": null,
      "outputs": []
    },
    {
      "cell_type": "code",
      "execution_count": null,
      "metadata": {
        "id": "FvN1TK4F1-0R"
      },
      "outputs": [],
      "source": [
        "#Feature extraction for Train data"
      ]
    },
    {
      "cell_type": "code",
      "source": [
        "def VGG16():\n",
        "  model = Sequential()\n",
        "  model.add(Conv2D(input_shape=(224,224,3),filters=64,kernel_size=(3,3),padding='same',activation='relu'))\n",
        "\n",
        "  model.add(Conv2D(filters=64,kernel_size=(3,3),padding='same', activation='relu'))\n",
        "\n",
        "  model.add(MaxPool2D(pool_size=(2,2),strides=(2,2)))\n",
        "\n",
        "  model.add(Conv2D(filters=128, kernel_size=(3,3), padding='same', activation='relu'))\n",
        "\n",
        "  model.add(Conv2D(filters=128, kernel_size=(3,3), padding='same', activation='relu'))\n",
        "\n",
        "  model.add(MaxPool2D(pool_size=(2,2),strides=(2,2)))\n",
        "\n",
        "  model.add(Conv2D(filters=256, kernel_size=(3,3), padding='same', activation='relu'))\n",
        "\n",
        "  model.add(Conv2D(filters=256, kernel_size=(3,3),padding='same', activation='relu'))\n",
        "\n",
        "  model.add(Conv2D(filters=256, kernel_size=(3,3),padding='same', activation='relu'))\n",
        "\n",
        "  model.add(MaxPool2D(pool_size=(2,2),strides=(2,2)))\n",
        "\n",
        "  model.add(Conv2D(filters=512, kernel_size=(3,3), padding='same', activation='relu'))\n",
        "\n",
        "  model.add(Conv2D(filters=512, kernel_size=(3,3), padding='same', activation='relu'))\n",
        "\n",
        "  model.add(Conv2D(filters=512, kernel_size=(3,3), padding='same', activation='relu'))\n",
        "\n",
        "  model.add(MaxPool2D(pool_size=(2,2),strides=(2,2)))\n",
        "\n",
        "  model.add(Conv2D(filters=512, kernel_size=(3,3), padding='same', activation='relu'))\n",
        "\n",
        "  model.add(Conv2D(filters=512, kernel_size=(3,3), padding='same', activation='relu'))\n",
        "\n",
        "  model.add(Conv2D(filters=512, kernel_size=(3,3), padding='same', activation='relu'))\n",
        "\n",
        "  model.add(MaxPool2D(pool_size=(2,2),strides=(2,2),name='vgg16'))\n",
        "\n",
        "  model.add(Flatten(name='flatten'))\n",
        "\n",
        "  model.add(Dense(256, activation='relu', name='fc1'))\n",
        "\n",
        "  model.add(Dense(128, activation='relu', name='fc2'))\n",
        "\n",
        "  model.add(Dense(5, activation='softmax', name='output'))\n",
        "\n",
        "  return model"
      ],
      "metadata": {
        "id": "SbmBfUy_Hnzt"
      },
      "execution_count": null,
      "outputs": []
    },
    {
      "cell_type": "code",
      "source": [
        "model=VGG16()\n",
        "\n",
        "model.summary()\n",
        "\n",
        "Vgg16 = Model(inputs=model.input, outputs=model.get_layer('vgg16').output)"
      ],
      "metadata": {
        "colab": {
          "base_uri": "https://localhost:8080/"
        },
        "id": "eImgV9pFJiV4",
        "outputId": "c9c7a0d1-df56-4efc-c319-b09b3912d90a"
      },
      "execution_count": null,
      "outputs": [
        {
          "output_type": "stream",
          "name": "stdout",
          "text": [
            "Model: \"sequential_1\"\n",
            "_________________________________________________________________\n",
            " Layer (type)                Output Shape              Param #   \n",
            "=================================================================\n",
            " conv2d_13 (Conv2D)          (None, 224, 224, 64)      1792      \n",
            "                                                                 \n",
            " conv2d_14 (Conv2D)          (None, 224, 224, 64)      36928     \n",
            "                                                                 \n",
            " max_pooling2d_4 (MaxPooling  (None, 112, 112, 64)     0         \n",
            " 2D)                                                             \n",
            "                                                                 \n",
            " conv2d_15 (Conv2D)          (None, 112, 112, 128)     73856     \n",
            "                                                                 \n",
            " conv2d_16 (Conv2D)          (None, 112, 112, 128)     147584    \n",
            "                                                                 \n",
            " max_pooling2d_5 (MaxPooling  (None, 56, 56, 128)      0         \n",
            " 2D)                                                             \n",
            "                                                                 \n",
            " conv2d_17 (Conv2D)          (None, 56, 56, 256)       295168    \n",
            "                                                                 \n",
            " conv2d_18 (Conv2D)          (None, 56, 56, 256)       590080    \n",
            "                                                                 \n",
            " conv2d_19 (Conv2D)          (None, 56, 56, 256)       590080    \n",
            "                                                                 \n",
            " max_pooling2d_6 (MaxPooling  (None, 28, 28, 256)      0         \n",
            " 2D)                                                             \n",
            "                                                                 \n",
            " conv2d_20 (Conv2D)          (None, 28, 28, 512)       1180160   \n",
            "                                                                 \n",
            " conv2d_21 (Conv2D)          (None, 28, 28, 512)       2359808   \n",
            "                                                                 \n",
            " conv2d_22 (Conv2D)          (None, 28, 28, 512)       2359808   \n",
            "                                                                 \n",
            " max_pooling2d_7 (MaxPooling  (None, 14, 14, 512)      0         \n",
            " 2D)                                                             \n",
            "                                                                 \n",
            " conv2d_23 (Conv2D)          (None, 14, 14, 512)       2359808   \n",
            "                                                                 \n",
            " conv2d_24 (Conv2D)          (None, 14, 14, 512)       2359808   \n",
            "                                                                 \n",
            " conv2d_25 (Conv2D)          (None, 14, 14, 512)       2359808   \n",
            "                                                                 \n",
            " vgg16 (MaxPooling2D)        (None, 7, 7, 512)         0         \n",
            "                                                                 \n",
            " flatten (Flatten)           (None, 25088)             0         \n",
            "                                                                 \n",
            " fc1 (Dense)                 (None, 256)               6422784   \n",
            "                                                                 \n",
            " fc2 (Dense)                 (None, 128)               32896     \n",
            "                                                                 \n",
            " output (Dense)              (None, 5)                 645       \n",
            "                                                                 \n",
            "=================================================================\n",
            "Total params: 21,171,013\n",
            "Trainable params: 21,171,013\n",
            "Non-trainable params: 0\n",
            "_________________________________________________________________\n"
          ]
        }
      ]
    },
    {
      "cell_type": "code",
      "source": [
        "opt = SGD(learning_rate=1e-6, momentum=0.9)\n",
        "\n",
        "model.compile(loss='categorical_crossentropy', optimizer=opt,metrics=['accuracy'])"
      ],
      "metadata": {
        "id": "rCOrOFgRLsPD"
      },
      "execution_count": null,
      "outputs": []
    },
    {
      "cell_type": "code",
      "source": [
        "model.fit_generator(x_adc_train,validation_data=x_adc_test,epochs=50,verbose=1).print(1)"
      ],
      "metadata": {
        "colab": {
          "base_uri": "https://localhost:8080/",
          "height": 166
        },
        "id": "HqX2nz8DMH76",
        "outputId": "596d840e-8422-4eff-c590-d9b8c292652b"
      },
      "execution_count": null,
      "outputs": [
        {
          "output_type": "error",
          "ename": "NameError",
          "evalue": "ignored",
          "traceback": [
            "\u001b[0;31m---------------------------------------------------------------------------\u001b[0m",
            "\u001b[0;31mNameError\u001b[0m                                 Traceback (most recent call last)",
            "\u001b[0;32m<ipython-input-1-6be45f0c02f3>\u001b[0m in \u001b[0;36m<module>\u001b[0;34m\u001b[0m\n\u001b[0;32m----> 1\u001b[0;31m \u001b[0mmodel\u001b[0m\u001b[0;34m.\u001b[0m\u001b[0mfit_generator\u001b[0m\u001b[0;34m(\u001b[0m\u001b[0mx_adc_train\u001b[0m\u001b[0;34m,\u001b[0m\u001b[0mvalidation_data\u001b[0m\u001b[0;34m=\u001b[0m\u001b[0mx_adc_test\u001b[0m\u001b[0;34m,\u001b[0m\u001b[0mepochs\u001b[0m\u001b[0;34m=\u001b[0m\u001b[0;36m50\u001b[0m\u001b[0;34m,\u001b[0m\u001b[0mverbose\u001b[0m\u001b[0;34m=\u001b[0m\u001b[0;36m1\u001b[0m\u001b[0;34m)\u001b[0m\u001b[0;34m.\u001b[0m\u001b[0mprint\u001b[0m\u001b[0;34m(\u001b[0m\u001b[0;36m1\u001b[0m\u001b[0;34m)\u001b[0m\u001b[0;34m\u001b[0m\u001b[0;34m\u001b[0m\u001b[0m\n\u001b[0m",
            "\u001b[0;31mNameError\u001b[0m: name 'model' is not defined"
          ]
        }
      ]
    },
    {
      "cell_type": "code",
      "execution_count": null,
      "metadata": {
        "colab": {
          "base_uri": "https://localhost:8080/"
        },
        "id": "X1RTP72Y1-0R",
        "outputId": "ad19188b-5d21-4637-a8b1-1090c431ebfd"
      },
      "outputs": [
        {
          "output_type": "stream",
          "name": "stdout",
          "text": [
            "Downloading data from https://storage.googleapis.com/tensorflow/keras-applications/vgg19/vgg19_weights_tf_dim_ordering_tf_kernels.h5\n",
            "574710816/574710816 [==============================] - 21s 0us/step\n",
            "8/8 [==============================] - 14s 344ms/step\n",
            "(240, 1000)\n"
          ]
        }
      ],
      "source": [
        "from pickle import dump\n",
        "\n",
        "model = VGG19()\n",
        "model = Model(inputs=model.inputs, outputs=model.output)\n",
        "group_t2 = x_t2_train\n",
        "features = model.predict(group_t2)\n",
        "print(features.shape)\n",
        "dump(features, open('group_t2.npy', 'wb'))"
      ]
    },
    {
      "cell_type": "code",
      "execution_count": null,
      "metadata": {
        "colab": {
          "base_uri": "https://localhost:8080/"
        },
        "id": "u7Ohe9CK4Fis",
        "outputId": "c4461bdd-304c-4a91-a958-4f6337376fac"
      },
      "outputs": [
        {
          "output_type": "stream",
          "name": "stdout",
          "text": [
            "Model: \"model\"\n",
            "_________________________________________________________________\n",
            " Layer (type)                Output Shape              Param #   \n",
            "=================================================================\n",
            " input_1 (InputLayer)        [(None, 224, 224, 3)]     0         \n",
            "                                                                 \n",
            " block1_conv1 (Conv2D)       (None, 224, 224, 64)      1792      \n",
            "                                                                 \n",
            " block1_conv2 (Conv2D)       (None, 224, 224, 64)      36928     \n",
            "                                                                 \n",
            " block1_pool (MaxPooling2D)  (None, 112, 112, 64)      0         \n",
            "                                                                 \n",
            " block2_conv1 (Conv2D)       (None, 112, 112, 128)     73856     \n",
            "                                                                 \n",
            " block2_conv2 (Conv2D)       (None, 112, 112, 128)     147584    \n",
            "                                                                 \n",
            " block2_pool (MaxPooling2D)  (None, 56, 56, 128)       0         \n",
            "                                                                 \n",
            " block3_conv1 (Conv2D)       (None, 56, 56, 256)       295168    \n",
            "                                                                 \n",
            " block3_conv2 (Conv2D)       (None, 56, 56, 256)       590080    \n",
            "                                                                 \n",
            " block3_conv3 (Conv2D)       (None, 56, 56, 256)       590080    \n",
            "                                                                 \n",
            " block3_conv4 (Conv2D)       (None, 56, 56, 256)       590080    \n",
            "                                                                 \n",
            " block3_pool (MaxPooling2D)  (None, 28, 28, 256)       0         \n",
            "                                                                 \n",
            " block4_conv1 (Conv2D)       (None, 28, 28, 512)       1180160   \n",
            "                                                                 \n",
            " block4_conv2 (Conv2D)       (None, 28, 28, 512)       2359808   \n",
            "                                                                 \n",
            " block4_conv3 (Conv2D)       (None, 28, 28, 512)       2359808   \n",
            "                                                                 \n",
            " block4_conv4 (Conv2D)       (None, 28, 28, 512)       2359808   \n",
            "                                                                 \n",
            " block4_pool (MaxPooling2D)  (None, 14, 14, 512)       0         \n",
            "                                                                 \n",
            " block5_conv1 (Conv2D)       (None, 14, 14, 512)       2359808   \n",
            "                                                                 \n",
            " block5_conv2 (Conv2D)       (None, 14, 14, 512)       2359808   \n",
            "                                                                 \n",
            " block5_conv3 (Conv2D)       (None, 14, 14, 512)       2359808   \n",
            "                                                                 \n",
            " block5_conv4 (Conv2D)       (None, 14, 14, 512)       2359808   \n",
            "                                                                 \n",
            " block5_pool (MaxPooling2D)  (None, 7, 7, 512)         0         \n",
            "                                                                 \n",
            " flatten (Flatten)           (None, 25088)             0         \n",
            "                                                                 \n",
            " fc1 (Dense)                 (None, 4096)              102764544 \n",
            "                                                                 \n",
            " fc2 (Dense)                 (None, 4096)              16781312  \n",
            "                                                                 \n",
            " predictions (Dense)         (None, 1000)              4097000   \n",
            "                                                                 \n",
            "=================================================================\n",
            "Total params: 143,667,240\n",
            "Trainable params: 143,667,240\n",
            "Non-trainable params: 0\n",
            "_________________________________________________________________\n"
          ]
        }
      ],
      "source": [
        "model.summary()"
      ]
    },
    {
      "cell_type": "code",
      "execution_count": null,
      "metadata": {
        "colab": {
          "base_uri": "https://localhost:8080/",
          "height": 240
        },
        "id": "2oASiw1z1-0S",
        "outputId": "5de9ad36-3ba2-481c-c280-57fa5a618361"
      },
      "outputs": [
        {
          "output_type": "error",
          "ename": "NameError",
          "evalue": "ignored",
          "traceback": [
            "\u001b[0;31m---------------------------------------------------------------------------\u001b[0m",
            "\u001b[0;31mNameError\u001b[0m                                 Traceback (most recent call last)",
            "\u001b[0;32m<ipython-input-38-8fcaa8b2774c>\u001b[0m in \u001b[0;36m<module>\u001b[0;34m\u001b[0m\n\u001b[1;32m      1\u001b[0m \u001b[0;32mfrom\u001b[0m \u001b[0mpickle\u001b[0m \u001b[0;32mimport\u001b[0m \u001b[0mdump\u001b[0m\u001b[0;34m\u001b[0m\u001b[0;34m\u001b[0m\u001b[0m\n\u001b[0;32m----> 2\u001b[0;31m \u001b[0mmodel\u001b[0m \u001b[0;34m=\u001b[0m \u001b[0mVGG19\u001b[0m\u001b[0;34m(\u001b[0m\u001b[0minput_shape\u001b[0m\u001b[0;34m=\u001b[0m\u001b[0mIMAGE_SIZE\u001b[0m \u001b[0;34m+\u001b[0m \u001b[0;34m[\u001b[0m\u001b[0;36m3\u001b[0m\u001b[0;34m]\u001b[0m\u001b[0;34m,\u001b[0m \u001b[0mweights\u001b[0m\u001b[0;34m=\u001b[0m\u001b[0;34m'imagenet'\u001b[0m\u001b[0;34m,\u001b[0m \u001b[0minclude_top\u001b[0m\u001b[0;34m=\u001b[0m\u001b[0;32mFalse\u001b[0m\u001b[0;34m)\u001b[0m\u001b[0;34m\u001b[0m\u001b[0;34m\u001b[0m\u001b[0m\n\u001b[0m\u001b[1;32m      3\u001b[0m \u001b[0mmodel\u001b[0m \u001b[0;34m=\u001b[0m \u001b[0mModel\u001b[0m\u001b[0;34m(\u001b[0m\u001b[0minputs\u001b[0m\u001b[0;34m=\u001b[0m\u001b[0mmodel\u001b[0m\u001b[0;34m.\u001b[0m\u001b[0minputs\u001b[0m\u001b[0;34m,\u001b[0m \u001b[0moutputs\u001b[0m\u001b[0;34m=\u001b[0m\u001b[0mmodel\u001b[0m\u001b[0;34m.\u001b[0m\u001b[0moutput\u001b[0m\u001b[0;34m)\u001b[0m\u001b[0;34m\u001b[0m\u001b[0;34m\u001b[0m\u001b[0m\n\u001b[1;32m      4\u001b[0m \u001b[0mgroup_adc\u001b[0m \u001b[0;34m=\u001b[0m \u001b[0mx_adc_train\u001b[0m\u001b[0;34m\u001b[0m\u001b[0;34m\u001b[0m\u001b[0m\n\u001b[1;32m      5\u001b[0m \u001b[0mfeatures\u001b[0m \u001b[0;34m=\u001b[0m \u001b[0mmodel\u001b[0m\u001b[0;34m.\u001b[0m\u001b[0mpredict\u001b[0m\u001b[0;34m(\u001b[0m\u001b[0mgroup_adc\u001b[0m\u001b[0;34m)\u001b[0m\u001b[0;34m\u001b[0m\u001b[0;34m\u001b[0m\u001b[0m\n",
            "\u001b[0;31mNameError\u001b[0m: name 'IMAGE_SIZE' is not defined"
          ]
        }
      ],
      "source": [
        "from pickle import dump\n",
        "model = VGG19(input_shape=IMAGE_SIZE + [3], weights='imagenet', include_top=False)\n",
        "model = Model(inputs=model.inputs, outputs=model.output)\n",
        "group_adc = x_adc_train\n",
        "features = model.predict(group_adc)\n",
        "print(features.shape)\n",
        "dump(features, open('group_adc.npy', 'wb'))"
      ]
    },
    {
      "cell_type": "code",
      "execution_count": null,
      "metadata": {
        "colab": {
          "base_uri": "https://localhost:8080/"
        },
        "id": "RjOtaAaW1-0T",
        "outputId": "6cdac910-3f81-4dda-c11c-c4a5de76d1b1"
      },
      "outputs": [
        {
          "output_type": "stream",
          "name": "stdout",
          "text": [
            "8/8 [==============================] - 1s 148ms/step\n",
            "(240, 1000)\n"
          ]
        }
      ],
      "source": [
        "from pickle import dump\n",
        "model = VGG19()\n",
        "model = Model(inputs=model.inputs, outputs=model.output)\n",
        "group_bval = x_bval_train\n",
        "features = model.predict(group_bval)\n",
        "print(features.shape)\n",
        "dump(features, open('group_bval.npy', 'wb'))"
      ]
    },
    {
      "cell_type": "code",
      "execution_count": null,
      "metadata": {
        "id": "fXohsMjJ1-0T"
      },
      "outputs": [],
      "source": [
        "x_t2 = np.load(\"/content/group_t2.npy\",allow_pickle=True)\n",
        "x_adc = np.load('/content/group_adc.npy',allow_pickle=True)\n",
        "x_bval = np.load('/content/group_bval.npy',allow_pickle=True)"
      ]
    },
    {
      "cell_type": "code",
      "execution_count": null,
      "metadata": {
        "colab": {
          "base_uri": "https://localhost:8080/"
        },
        "id": "_WbBVySB4dO3",
        "outputId": "50db456e-8ade-49a7-96fd-b0b85754b800"
      },
      "outputs": [
        {
          "output_type": "stream",
          "name": "stdout",
          "text": [
            "(240, 1000) (240, 1000) (240, 1000)\n"
          ]
        }
      ],
      "source": [
        "print(x_t2.shape,x_adc.shape,x_bval.shape)"
      ]
    },
    {
      "cell_type": "code",
      "execution_count": null,
      "metadata": {
        "colab": {
          "base_uri": "https://localhost:8080/"
        },
        "id": "1tGRIcv_1-0U",
        "outputId": "6572ebd3-1a21-4fd3-a6d6-68d359753617"
      },
      "outputs": [
        {
          "output_type": "execute_result",
          "data": {
            "text/plain": [
              "(240, 3000)"
            ]
          },
          "metadata": {},
          "execution_count": 42
        }
      ],
      "source": [
        "X_train = np.concatenate((x_t2, x_adc,x_bval), axis=1)\n",
        "X_train.shape"
      ]
    },
    {
      "cell_type": "code",
      "execution_count": null,
      "metadata": {
        "colab": {
          "base_uri": "https://localhost:8080/"
        },
        "id": "N9_pTP6D1-0U",
        "outputId": "12cbba5b-9c3d-4f25-a913-316007104c25"
      },
      "outputs": [
        {
          "output_type": "stream",
          "name": "stdout",
          "text": [
            "2/2 [==============================] - 1s 1s/step\n",
            "(35, 1000)\n"
          ]
        }
      ],
      "source": [
        "model = VGG19()\n",
        "model = Model(inputs=model.inputs, outputs=model.output)\n",
        "group_t2 = x_t2_test\n",
        "features = model.predict(group_t2)\n",
        "print(features.shape)\n",
        "dump(features, open('group_t2_test.npy', 'wb'))"
      ]
    },
    {
      "cell_type": "code",
      "execution_count": null,
      "metadata": {
        "colab": {
          "base_uri": "https://localhost:8080/"
        },
        "id": "Ch874Ieo1-0V",
        "outputId": "15825654-a43d-4edd-85c7-f8b8c4335c3c"
      },
      "outputs": [
        {
          "output_type": "stream",
          "name": "stdout",
          "text": [
            "2/2 [==============================] - 0s 173ms/step\n",
            "(35, 1000)\n"
          ]
        }
      ],
      "source": [
        "model = VGG19()\n",
        "model = Model(inputs=model.inputs, outputs=model.output)\n",
        "group_adc = x_adc_test\n",
        "features = model.predict(group_adc)\n",
        "print(features.shape)\n",
        "dump(features, open('group_adc_test.npy', 'wb'))"
      ]
    },
    {
      "cell_type": "code",
      "execution_count": null,
      "metadata": {
        "colab": {
          "base_uri": "https://localhost:8080/"
        },
        "id": "PObQU5XK1-0V",
        "outputId": "510f7ce2-3366-4d14-9dd9-aa16711ee442"
      },
      "outputs": [
        {
          "output_type": "stream",
          "name": "stdout",
          "text": [
            "2/2 [==============================] - 0s 173ms/step\n",
            "(35, 1000)\n"
          ]
        }
      ],
      "source": [
        "model = VGG19()\n",
        "model = Model(inputs=model.inputs, outputs=model.output)\n",
        "group_bval = x_bval_test\n",
        "features = model.predict(group_bval)\n",
        "print(features.shape)\n",
        "dump(features, open('group_bval_test.npy', 'wb'))"
      ]
    },
    {
      "cell_type": "code",
      "execution_count": null,
      "metadata": {
        "id": "L0Onr_id1-0W"
      },
      "outputs": [],
      "source": [
        "x_t2 = np.load('/content/group_t2_test.npy',allow_pickle=True)\n",
        "x_adc = np.load('/content/group_adc_test.npy',allow_pickle=True)\n",
        "x_bval = np.load('/content/group_bval_test.npy',allow_pickle=True)"
      ]
    },
    {
      "cell_type": "code",
      "execution_count": null,
      "metadata": {
        "colab": {
          "base_uri": "https://localhost:8080/"
        },
        "id": "XIsvkpca1-0W",
        "outputId": "405fcd23-087e-4c2b-87dd-ef6303632cb4"
      },
      "outputs": [
        {
          "output_type": "execute_result",
          "data": {
            "text/plain": [
              "(35, 3000)"
            ]
          },
          "metadata": {},
          "execution_count": 47
        }
      ],
      "source": [
        "X_test = np.concatenate((x_t2, x_adc,x_bval), axis=1)\n",
        "X_test.shape"
      ]
    },
    {
      "cell_type": "markdown",
      "metadata": {
        "id": "I8enMZVf1-0W"
      },
      "source": [
        "## FINAL- TRAIN, TEST"
      ]
    },
    {
      "cell_type": "code",
      "execution_count": null,
      "metadata": {
        "colab": {
          "base_uri": "https://localhost:8080/"
        },
        "id": "BMsDHYx11-0W",
        "outputId": "91500a46-9405-42c4-e38d-e8a018267668"
      },
      "outputs": [
        {
          "output_type": "stream",
          "name": "stdout",
          "text": [
            "X_train shape:  (240, 3000) \n",
            "Y_adc_train shape:  (240,)\n",
            "X_test shape:  (35, 3000) \n",
            "Y_adc_test shape:  (35,)\n"
          ]
        }
      ],
      "source": [
        "y_train = y_t2_train\n",
        "y_test = y_adc_test\n",
        "\n",
        "\n",
        "print(\"X_train shape: \",X_train.shape, \"\\nY_adc_train shape: \",y_train.shape)\n",
        "print(\"X_test shape: \",X_test.shape, \"\\nY_adc_test shape: \",y_test.shape)\n"
      ]
    },
    {
      "cell_type": "markdown",
      "metadata": {
        "id": "3r_HP2YC1-0X"
      },
      "source": [
        "## PCA"
      ]
    },
    {
      "cell_type": "code",
      "execution_count": null,
      "metadata": {
        "id": "exvuOEaS1-0X"
      },
      "outputs": [],
      "source": [
        "from sklearn.decomposition import PCA, KernelPCA"
      ]
    },
    {
      "cell_type": "code",
      "execution_count": null,
      "metadata": {
        "id": "THqJM2oI1-0X"
      },
      "outputs": [],
      "source": [
        "#pca = KernelPCA(n_components=32,kernel='linear') #kernel{‘linear’, ‘poly’, ‘rbf’, ‘sigmoid’, ‘cosine’, ‘precomputed’}, default=’linear’\n",
        "pca = KernelPCA(n_components=32,kernel='poly')\n",
        "pca.fit(X_train)\n",
        "x_train = pca.transform(X_train)"
      ]
    },
    {
      "cell_type": "code",
      "execution_count": null,
      "metadata": {
        "id": "BjJreiVI1-0Y"
      },
      "outputs": [],
      "source": [
        "x_test = pca.transform(X_test)"
      ]
    },
    {
      "cell_type": "code",
      "execution_count": null,
      "metadata": {
        "colab": {
          "base_uri": "https://localhost:8080/"
        },
        "id": "UyQaxBTQ1-0Y",
        "outputId": "8000ef8f-4a18-4507-efdf-2615a4a1d5b5"
      },
      "outputs": [
        {
          "output_type": "stream",
          "name": "stdout",
          "text": [
            "(240, 32)\n",
            "(35, 32)\n"
          ]
        }
      ],
      "source": [
        "print(x_train.shape)\n",
        "print(x_test.shape)\n"
      ]
    },
    {
      "cell_type": "markdown",
      "metadata": {
        "id": "n4BfLQgu1-0Z"
      },
      "source": [
        "## ORDINAL CLASS CLASSIFIER"
      ]
    },
    {
      "cell_type": "code",
      "execution_count": null,
      "metadata": {
        "id": "QAhK3wcX1-0Z"
      },
      "outputs": [],
      "source": [
        "#Decision Tree/J48/C4.5\n",
        "\n",
        "from sklearn import tree\n",
        "from sklearn.tree import DecisionTreeClassifier\n",
        "from sklearn.model_selection import GridSearchCV\n",
        "model = tree.DecisionTreeClassifier(random_state=seed_value)"
      ]
    },
    {
      "cell_type": "code",
      "execution_count": null,
      "metadata": {
        "colab": {
          "base_uri": "https://localhost:8080/"
        },
        "id": "CZOcBNmg1-0a",
        "outputId": "d36a303f-de06-48b6-9473-57291130b40c"
      },
      "outputs": [
        {
          "output_type": "stream",
          "name": "stderr",
          "text": [
            "/usr/local/lib/python3.8/dist-packages/sklearn/model_selection/_split.py:676: UserWarning: The least populated class in y has only 3 members, which is less than n_splits=5.\n",
            "  warnings.warn(\n",
            "/usr/local/lib/python3.8/dist-packages/sklearn/model_selection/_split.py:676: UserWarning: The least populated class in y has only 3 members, which is less than n_splits=5.\n",
            "  warnings.warn(\n",
            "/usr/local/lib/python3.8/dist-packages/sklearn/model_selection/_split.py:676: UserWarning: The least populated class in y has only 2 members, which is less than n_splits=5.\n",
            "  warnings.warn(\n",
            "/usr/local/lib/python3.8/dist-packages/sklearn/model_selection/_split.py:676: UserWarning: The least populated class in y has only 2 members, which is less than n_splits=5.\n",
            "  warnings.warn(\n",
            "/usr/local/lib/python3.8/dist-packages/sklearn/model_selection/_split.py:676: UserWarning: The least populated class in y has only 2 members, which is less than n_splits=5.\n",
            "  warnings.warn(\n",
            "/usr/local/lib/python3.8/dist-packages/sklearn/model_selection/_split.py:676: UserWarning: The least populated class in y has only 3 members, which is less than n_splits=5.\n",
            "  warnings.warn(\n",
            "/usr/local/lib/python3.8/dist-packages/sklearn/model_selection/_split.py:676: UserWarning: The least populated class in y has only 3 members, which is less than n_splits=5.\n",
            "  warnings.warn(\n"
          ]
        }
      ],
      "source": [
        "tuned_parameters = {'max_depth': np.arange(2,10),'min_samples_leaf': np.arange(5,30),\"criterion\":[\"gini\",\"entropy\"],\"min_impurity_decrease\":[1e-07,1e-06,1e-05,1e-04,1e-03,1e-02,1e-01,1]}\n",
        "\n",
        "inner_cv = StratifiedKFold(n_splits=10, shuffle=True,random_state=seed_value)\n",
        "\n",
        "grid_tree = GridSearchCV(model,tuned_parameters, scoring='accuracy', n_jobs = -1)\n",
        "grid_tree.fit(x_train,y_train)\n",
        "\n",
        "# Nested CV with parameter optimization\n",
        "nested_score = cross_val_score(grid_tree, x_train, y_train)"
      ]
    },
    {
      "cell_type": "code",
      "execution_count": null,
      "metadata": {
        "colab": {
          "base_uri": "https://localhost:8080/"
        },
        "id": "dp3nn9codX5m",
        "outputId": "63c962a1-e1b6-4765-c5b4-bd727a8f5c25"
      },
      "outputs": [
        {
          "output_type": "execute_result",
          "data": {
            "text/plain": [
              "array([0.29166667, 0.45833333, 0.41666667, 0.33333333, 0.3125    ])"
            ]
          },
          "metadata": {},
          "execution_count": 55
        }
      ],
      "source": [
        "nested_score"
      ]
    },
    {
      "cell_type": "code",
      "execution_count": null,
      "metadata": {
        "colab": {
          "base_uri": "https://localhost:8080/",
          "height": 964
        },
        "id": "rI9cBk2q1-0a",
        "outputId": "39485c0c-5966-4ae0-c102-09d3693e320a"
      },
      "outputs": [
        {
          "output_type": "stream",
          "name": "stdout",
          "text": [
            "Using Nested CV with grid search,accuracy: 36.25% +/- 12.80%\n",
            "\n",
            "The best hyper-parameters to get this accuracy is :-\n",
            " {'criterion': 'entropy', 'max_depth': 4, 'min_impurity_decrease': 1e-07, 'min_samples_leaf': 17}\n",
            "\n",
            "The best decision tree classifier is :-\n",
            " DecisionTreeClassifier(criterion='entropy', max_depth=4,\n",
            "                       min_impurity_decrease=1e-07, min_samples_leaf=17,\n",
            "                       random_state=123)\n",
            "Confusion Matrix: - \n",
            " [[4 8 0 0 0]\n",
            " [5 8 0 0 0]\n",
            " [1 5 0 0 0]\n",
            " [1 1 0 0 0]\n",
            " [2 0 0 0 0]]\n",
            "Classification Report: - \n",
            "               precision    recall  f1-score   support\n",
            "\n",
            "           1       0.31      0.33      0.32        12\n",
            "           2       0.36      0.62      0.46        13\n",
            "           3       0.00      0.00      0.00         6\n",
            "           4       0.00      0.00      0.00         2\n",
            "           5       0.00      0.00      0.00         2\n",
            "\n",
            "    accuracy                           0.34        35\n",
            "   macro avg       0.13      0.19      0.16        35\n",
            "weighted avg       0.24      0.34      0.28        35\n",
            "\n",
            "kappa score : - \n",
            " -0.028097062579821364\n",
            "Test Accuracy: - \n",
            " 0.34285714285714286\n"
          ]
        },
        {
          "output_type": "stream",
          "name": "stderr",
          "text": [
            "/usr/local/lib/python3.8/dist-packages/sklearn/metrics/_classification.py:1318: UndefinedMetricWarning: Precision and F-score are ill-defined and being set to 0.0 in labels with no predicted samples. Use `zero_division` parameter to control this behavior.\n",
            "  _warn_prf(average, modifier, msg_start, len(result))\n",
            "/usr/local/lib/python3.8/dist-packages/sklearn/metrics/_classification.py:1318: UndefinedMetricWarning: Precision and F-score are ill-defined and being set to 0.0 in labels with no predicted samples. Use `zero_division` parameter to control this behavior.\n",
            "  _warn_prf(average, modifier, msg_start, len(result))\n",
            "/usr/local/lib/python3.8/dist-packages/sklearn/metrics/_classification.py:1318: UndefinedMetricWarning: Precision and F-score are ill-defined and being set to 0.0 in labels with no predicted samples. Use `zero_division` parameter to control this behavior.\n",
            "  _warn_prf(average, modifier, msg_start, len(result))\n"
          ]
        },
        {
          "output_type": "display_data",
          "data": {
            "text/plain": [
              "<Figure size 432x288 with 2 Axes>"
            ],
            "image/png": "[encoded data removed]"
          },
          "metadata": {
            "needs_background": "light"
          }
        }
      ],
      "source": [
        "# Mean Accuracy with +/- 2 std deviations\n",
        "print(\"Using Nested CV with grid search,accuracy: {0:.2%} +/- {1:.2%}\".format(nested_score.mean(), nested_score.std() * 2))\n",
        "print()\n",
        "print (\"The best hyper-parameters to get this accuracy is :-\\n\", grid_tree.best_params_)\n",
        "print()\n",
        "print (\"The best decision tree classifier is :-\\n\", grid_tree.best_estimator_)\n",
        "y_pred = grid_tree.best_estimator_.predict(x_test)\n",
        "\n",
        "#Goodness Measures confusion matrix and other measures like accuracy, precision,recall\n",
        "cm=confusion_matrix(y_test, y_pred)\n",
        "print(\"Confusion Matrix: - \\n\",cm)\n",
        "sns.heatmap(cm/np.sum(cm), annot=True,fmt='.2%', cmap='Blues')\n",
        "print(\"Classification Report: - \\n\",classification_report(y_test, y_pred))\n",
        "print(\"kappa score : - \\n\",cohen_kappa_score(y_test, y_pred))\n",
        "print(\"Test Accuracy: - \\n\",accuracy_score(y_test, y_pred))"
      ]
    },
    {
      "cell_type": "code",
      "execution_count": null,
      "metadata": {
        "id": "7lCiCsU5Epwg"
      },
      "outputs": [],
      "source": [
        "import xgboost as xgb\n",
        "import numpy as np\n",
        "from sklearn.model_selection import train_test_split\n",
        "from sklearn.metrics import accuracy_score\n",
        "\n",
        "xg_clf = xgb.XGBClassifier(objective='multi:softmax', num_class=3, max_depth=5, learning_rate=0.1, n_estimators=100)\n",
        "\n",
        "xg_clf.fit(x_train, y_train)\n",
        "\n",
        "y_pred = xg_clf.predict(x_test)\n",
        "\n",
        "accuracy = accuracy_score(y_test, y_pred)\n",
        "print('Accuracy:', accuracy)\n",
        "cm=confusion_matrix(y_test, y_pred)\n",
        "print(\"Confusion Matrix: - \\n\",cm)\n",
        "sns.heatmap(cm/np.sum(cm), annot=True,fmt='.2%', cmap='Blues')\n",
        "print(\"Classification Report: - \\n\",classification_report(y_test, y_pred))\n",
        "print(\"kappa score : - \\n\",cohen_kappa_score(y_test, y_pred))\n",
        "print(\"Test Accuracy: - \\n\",accuracy_score(y_test, y_pred))"
      ]
    },
    {
      "cell_type": "code",
      "source": [
        "import xgboost as xgb\n",
        "import numpy as np\n",
        "from tensorflow.keras.datasets import mnist\n",
        "from tensorflow.keras.layers import Input, Conv2D, MaxPooling2D, Flatten, Dense, Dropout\n",
        "from tensorflow.keras.models import Model\n",
        "from sklearn.model_selection import train_test_split\n",
        "from sklearn.metrics import accuracy_score\n",
        "from sklearn.preprocessing import StandardScaler\n",
        "from sklearn.decomposition import PCA\n",
        "from sklearn.pipeline import Pipeline\n",
        "from sklearn.model_selection import RandomizedSearchCV\n",
        "\n",
        "pipeline = Pipeline([\n",
        "    ('scaler', StandardScaler()),\n",
        "    ('pca', PCA(n_components=30)),\n",
        "])\n",
        "\n",
        "x_train_preprocessed = pipeline.fit_transform(x_train)\n",
        "x_test_preprocessed = pipeline.transform(x_test)\n",
        "\n",
        "xg_clf = xgb.XGBClassifier(objective='multi:softmax', num_class=3, n_jobs=-1)\n",
        "\n",
        "params = {\n",
        "    'max_depth': [3, 5, 7],\n",
        "    'learning_rate': [0.05, 0.1, 0.2],\n",
        "    'n_estimators': [100, 200, 300],\n",
        "    'subsample': [0.5, 0.8, 1.0],\n",
        "    'colsample_bytree': [0.5, 0.8, 1.0],\n",
        "}\n",
        "\n",
        "random_search = RandomizedSearchCV(xg_clf, param_distributions=params, cv=3, n_iter=10, verbose=3, n_jobs=-1)\n",
        "random_search.fit(x_train_preprocessed, y_train)\n",
        "\n",
        "y_pred = random_search.predict(x_test_preprocessed)\n",
        "\n",
        "accuracy = accuracy_score(y_test, y_pred)\n",
        "print('Accuracy:', accuracy)"
      ],
      "metadata": {
        "colab": {
          "base_uri": "https://localhost:8080/"
        },
        "id": "bhviEBKW1N4J",
        "outputId": "8160f2f9-bc43-433a-c8f4-a2480600ed1a"
      },
      "execution_count": null,
      "outputs": [
        {
          "output_type": "stream",
          "name": "stdout",
          "text": [
            "Fitting 3 folds for each of 10 candidates, totalling 30 fits\n",
            "Accuracy: 0.4\n"
          ]
        }
      ]
    },
    {
      "cell_type": "code",
      "execution_count": null,
      "metadata": {
        "id": "CTPN4PfpZq9q"
      },
      "outputs": [],
      "source": [
        "from sklearn.model_selection import RandomizedSearchCV\n",
        "from sklearn.ensemble import RandomForestClassifier\n",
        "model = RandomForestClassifier()\n",
        "# Number of trees in random forest\n",
        "n_estimators = [int(x) for x in np.linspace(start = 200, stop = 2000, num = 10)]\n",
        "# Number of features to consider at every split\n",
        "max_features = ['auto', 'sqrt']\n",
        "# Maximum number of levels in tree\n",
        "max_depth = [int(x) for x in np.linspace(10, 110, num = 11)]\n",
        "max_depth.append(None)\n",
        "# Minimum number of samples required to split a node\n",
        "min_samples_split = [2, 5, 10]\n",
        "# Minimum number of samples required at each leaf node\n",
        "min_samples_leaf = [1, 2, 4]\n",
        "# Method of selecting samples for training each tree\n",
        "bootstrap = [True, False]\n",
        "# Create the random grid\n",
        "tuned_parameters = {'n_estimators': n_estimators,\n",
        "               'max_features': max_features,\n",
        "               'max_depth': max_depth,\n",
        "               'min_samples_split': min_samples_split,\n",
        "               'min_samples_leaf': min_samples_leaf,\n",
        "               'bootstrap': bootstrap}"
      ]
    },
    {
      "cell_type": "code",
      "execution_count": null,
      "metadata": {
        "colab": {
          "base_uri": "https://localhost:8080/"
        },
        "id": "08KhrxbnrIV7",
        "outputId": "aedfe6a2-2c71-49c6-e10d-d1fd128bd5fa"
      },
      "outputs": [
        {
          "output_type": "stream",
          "name": "stderr",
          "text": [
            "/usr/local/lib/python3.8/dist-packages/sklearn/model_selection/_split.py:676: UserWarning: The least populated class in y has only 3 members, which is less than n_splits=5.\n",
            "  warnings.warn(\n",
            "/usr/local/lib/python3.8/dist-packages/sklearn/model_selection/_split.py:676: UserWarning: The least populated class in y has only 3 members, which is less than n_splits=5.\n",
            "  warnings.warn(\n",
            "/usr/local/lib/python3.8/dist-packages/sklearn/model_selection/_split.py:676: UserWarning: The least populated class in y has only 2 members, which is less than n_splits=5.\n",
            "  warnings.warn(\n",
            "/usr/local/lib/python3.8/dist-packages/sklearn/model_selection/_split.py:676: UserWarning: The least populated class in y has only 2 members, which is less than n_splits=5.\n",
            "  warnings.warn(\n",
            "/usr/local/lib/python3.8/dist-packages/sklearn/model_selection/_split.py:676: UserWarning: The least populated class in y has only 2 members, which is less than n_splits=5.\n",
            "  warnings.warn(\n",
            "/usr/local/lib/python3.8/dist-packages/sklearn/model_selection/_split.py:676: UserWarning: The least populated class in y has only 3 members, which is less than n_splits=5.\n",
            "  warnings.warn(\n",
            "/usr/local/lib/python3.8/dist-packages/sklearn/model_selection/_split.py:676: UserWarning: The least populated class in y has only 3 members, which is less than n_splits=5.\n",
            "  warnings.warn(\n"
          ]
        }
      ],
      "source": [
        "tuned_parameters = {'max_depth': np.arange(2,10),'min_samples_leaf': np.arange(5,30),\"criterion\":[\"gini\",\"entropy\"],\"min_impurity_decrease\":[1e-07,1e-06,1e-05,1e-04,1e-03,1e-02,1e-01,1]}\n",
        "\n",
        "inner_cv = StratifiedKFold(n_splits=10, shuffle=True,random_state=seed_value)\n",
        "\n",
        "grid_tree = RandomizedSearchCV(model,tuned_parameters, scoring='accuracy', n_jobs = -1,n_iter=50)\n",
        "grid_tree.fit(x_train,y_train)\n",
        "\n",
        "# Nested CV with parameter optimization\n",
        "nested_score = cross_val_score(grid_tree, x_train, y_train)"
      ]
    },
    {
      "cell_type": "code",
      "execution_count": null,
      "metadata": {
        "id": "xpqvaiAZrIV8",
        "colab": {
          "base_uri": "https://localhost:8080/"
        },
        "outputId": "39a19a2d-d48a-4ca1-eaee-7558b31efd3d"
      },
      "outputs": [
        {
          "output_type": "execute_result",
          "data": {
            "text/plain": [
              "array([0.41666667, 0.5       , 0.5       , 0.5       , 0.375     ])"
            ]
          },
          "metadata": {},
          "execution_count": 64
        }
      ],
      "source": [
        "nested_score"
      ]
    },
    {
      "cell_type": "code",
      "execution_count": null,
      "metadata": {
        "id": "y0iZ4LRArIV8",
        "colab": {
          "base_uri": "https://localhost:8080/",
          "height": 946
        },
        "outputId": "aba14e2f-da99-49a7-cca2-f6d906e2a325"
      },
      "outputs": [
        {
          "output_type": "stream",
          "name": "stdout",
          "text": [
            "Using Nested CV with grid search,accuracy: 46.25% +/- 14.53%\n",
            "\n",
            "The best hyper-parameters to get this accuracy is :-\n",
            " {'min_samples_leaf': 5, 'min_impurity_decrease': 1e-06, 'max_depth': 8, 'criterion': 'entropy'}\n",
            "\n",
            "The best decision tree classifier is :-\n",
            " RandomForestClassifier(criterion='entropy', max_depth=8,\n",
            "                       min_impurity_decrease=1e-06, min_samples_leaf=5)\n",
            "Confusion Matrix: - \n",
            " [[8 4 0 0 0]\n",
            " [8 5 0 0 0]\n",
            " [1 5 0 0 0]\n",
            " [2 0 0 0 0]\n",
            " [2 0 0 0 0]]\n",
            "Classification Report: - \n",
            "               precision    recall  f1-score   support\n",
            "\n",
            "           1       0.38      0.67      0.48        12\n",
            "           2       0.36      0.38      0.37        13\n",
            "           3       0.00      0.00      0.00         6\n",
            "           4       0.00      0.00      0.00         2\n",
            "           5       0.00      0.00      0.00         2\n",
            "\n",
            "    accuracy                           0.37        35\n",
            "   macro avg       0.15      0.21      0.17        35\n",
            "weighted avg       0.26      0.37      0.30        35\n",
            "\n",
            "kappa score : - \n",
            " 0.026548672566371723\n",
            "Test Accuracy: - \n",
            " 0.37142857142857144\n"
          ]
        },
        {
          "output_type": "stream",
          "name": "stderr",
          "text": [
            "/usr/local/lib/python3.8/dist-packages/sklearn/metrics/_classification.py:1318: UndefinedMetricWarning: Precision and F-score are ill-defined and being set to 0.0 in labels with no predicted samples. Use `zero_division` parameter to control this behavior.\n",
            "  _warn_prf(average, modifier, msg_start, len(result))\n",
            "/usr/local/lib/python3.8/dist-packages/sklearn/metrics/_classification.py:1318: UndefinedMetricWarning: Precision and F-score are ill-defined and being set to 0.0 in labels with no predicted samples. Use `zero_division` parameter to control this behavior.\n",
            "  _warn_prf(average, modifier, msg_start, len(result))\n",
            "/usr/local/lib/python3.8/dist-packages/sklearn/metrics/_classification.py:1318: UndefinedMetricWarning: Precision and F-score are ill-defined and being set to 0.0 in labels with no predicted samples. Use `zero_division` parameter to control this behavior.\n",
            "  _warn_prf(average, modifier, msg_start, len(result))\n"
          ]
        },
        {
          "output_type": "display_data",
          "data": {
            "text/plain": [
              "<Figure size 432x288 with 2 Axes>"
            ],
            "image/png": "[encoded data removed]"
          },
          "metadata": {
            "needs_background": "light"
          }
        }
      ],
      "source": [
        "# Mean Accuracy with +/- 2 std deviations\n",
        "print(\"Using Nested CV with grid search,accuracy: {0:.2%} +/- {1:.2%}\".format(nested_score.mean(), nested_score.std() * 2))\n",
        "print()\n",
        "\n",
        "\n",
        "\n",
        "\n",
        "\n",
        "\n",
        "\n",
        "print (\"The best hyper-parameters to get this accuracy is :-\\n\", grid_tree.best_params_)\n",
        "print()\n",
        "print (\"The best decision tree classifier is :-\\n\", grid_tree.best_estimator_)\n",
        "y_pred = grid_tree.best_estimator_.predict(x_test)\n",
        "\n",
        "#Goodness Measures confusion matrix and other measures like accuracy, precision,recall\n",
        "cm=confusion_matrix(y_test, y_pred)\n",
        "print(\"Confusion Matrix: - \\n\",cm)\n",
        "sns.heatmap(cm/np.sum(cm), annot=True,fmt='.2%', cmap='Blues')\n",
        "print(\"Classification Report: - \\n\",classification_report(y_test, y_pred))\n",
        "print(\"kappa score : - \\n\",cohen_kappa_score(y_test, y_pred))\n",
        "print(\"Test Accuracy: - \\n\",accuracy_score(y_test, y_pred))"
      ]
    }
  ],
  "metadata": {
    "accelerator": "GPU",
    "colab": {
      "provenance": []
    },
    "gpuClass": "standard",
    "kernelspec": {
      "display_name": "Python 3 (ipykernel)",
      "language": "python",
      "name": "python3"
    },
    "language_info": {
      "codemirror_mode": {
        "name": "ipython",
        "version": 3
      },
      "file_extension": ".py",
      "mimetype": "text/x-python",
      "name": "python",
      "nbconvert_exporter": "python",
      "pygments_lexer": "ipython3",
      "version": "3.9.13"
    }
  },
  "nbformat": 4,
  "nbformat_minor": 0
}